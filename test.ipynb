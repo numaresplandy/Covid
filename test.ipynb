{
 "metadata": {
  "language_info": {
   "codemirror_mode": {
    "name": "ipython",
    "version": 3
   },
   "file_extension": ".py",
   "mimetype": "text/x-python",
   "name": "python",
   "nbconvert_exporter": "python",
   "pygments_lexer": "ipython3",
   "version": "3.8.2-final"
  },
  "orig_nbformat": 2,
  "kernelspec": {
   "name": "Python 3.8.2 64-bit",
   "display_name": "Python 3.8.2 64-bit",
   "metadata": {
    "interpreter": {
     "hash": "0adcc2737ebf6a4a119f135174df96668767fca1ef1112612db5ecadf2b6d608"
    }
   }
  }
 },
 "nbformat": 4,
 "nbformat_minor": 2,
 "cells": [
  {
   "cell_type": "code",
   "execution_count": 28,
   "metadata": {},
   "outputs": [],
   "source": [
    "import numpy as np \n",
    "import pandas as pd \n",
    "import plotly.express as px  # (version 4.7.0)\n",
    "import json\n",
    "import plotly.graph_objects as go\n",
    "from plotly.subplots import make_subplots\n",
    "import plotly.io as pio \n",
    "from datetime import datetime\n",
    "pio.renderers.default='browser'\n",
    "import ssl\n",
    "ssl._create_default_https_context = ssl._create_unverified_context\n"
   ]
  },
  {
   "cell_type": "code",
   "execution_count": 15,
   "metadata": {},
   "outputs": [],
   "source": [
    "def create_dataframe(covid_file,dep_pop_file,dep_sup_file):\n",
    "    dep_sup = pd.read_csv(dep_sup_file,dtype={'dep': str, 'code': str, 'Superficie(km2)': float})\n",
    "    dep_pop = pd.read_csv(dep_pop_file,dtype={'dep': str, 'code': str, 'Population(milliers)': float})\n",
    "    covid = pd.read_csv(covid_file)\n",
    "    dep_sup = dep_sup.sort_values(by=['code'])\n",
    "    dep_pop['Population(milliers)'] = dep_pop['Population(milliers)'] * 1000\n",
    "    dep_sup['Population(hab)'] = (dep_pop['Population(milliers)'].values)\n",
    "    dep_sup['Density(hab/km2)'] =round(dep_sup['Population(hab)']/dep_sup['Superficie(km2)'],2)\n",
    "    #dep_sup['Density(hab/km2)_log'] = np.log10(dep_sup['Density(hab/km2)'])\n",
    "    print(dep_sup)\n",
    "    dep_sup.to_csv('france_density_pop.csv',index=False)\n",
    "    \n",
    "    #return covid\n"
   ]
  },
  {
   "cell_type": "code",
   "execution_count": 37,
   "metadata": {},
   "outputs": [],
   "source": [
    "    def create_df(covid_file,franced):\n",
    "        covid = pd.read_csv('https://www.data.gouv.fr/fr/datasets/r/63352e38-d353-4b54-bfd1-f1b3ee1cabd7', sep=\";\", parse_dates=True)\n",
    "        density = pd.read_csv(franced,dtype={'name_dep': str, 'dep': str, 'Superficie(km2)': float,'Population(milliers)': float,'Density(hab/km2)':float})\n",
    "        covid = pd.merge(density, covid, on = ['dep'])\n",
    "        for i in ['974','973','972','971']: \n",
    "            covid= covid.drop(covid[ covid['dep'] ==i].index, axis=0)\n",
    "        covid['sum']= covid['hosp'] + covid['rea']\n",
    "        covid['sum']=covid['sum'].astype('float64')\n",
    "        np.seterr(divide = 'ignore')\n",
    "        for i in range(len(covid['sum'])): \n",
    "            if np.log(covid['sum'][i])==float('-inf'):\n",
    "                covid['sum'].loc[i]=1\n",
    "        np.seterr(divide = 'warn')\n",
    "        print(covid)\n",
    "        covid['jour'] =pd.to_datetime(covid['jour']).dt.date\n",
    "        covid = covid.set_index('jour')\n",
    "        return covid"
   ]
  },
  {
   "cell_type": "code",
   "execution_count": 38,
   "metadata": {},
   "outputs": [
    {
     "output_type": "stream",
     "name": "stdout",
     "text": [
      "         name_dep dep  Superficie(km2)  Population(hab)  Density(hab/km2)  \\\n0             Ain  01           5762.0         657000.0            114.02   \n1             Ain  01           5762.0         657000.0            114.02   \n2             Ain  01           5762.0         657000.0            114.02   \n3             Ain  01           5762.0         657000.0            114.02   \n4             Ain  01           5762.0         657000.0            114.02   \n...           ...  ..              ...              ...               ...   \n60187  Val-d’Oise  95           1246.0        1248400.0           1001.93   \n60188  Val-d’Oise  95           1246.0        1248400.0           1001.93   \n60189  Val-d’Oise  95           1246.0        1248400.0           1001.93   \n60190  Val-d’Oise  95           1246.0        1248400.0           1001.93   \n60191  Val-d’Oise  95           1246.0        1248400.0           1001.93   \n\n       sexe        jour  hosp  rea   rad   dc    sum  \n0         0  2020-03-18     2    0     1    0    2.0  \n1         1  2020-03-18     1    0     1    0    1.0  \n2         2  2020-03-18     1    0     0    0    1.0  \n3         0  2020-03-19     2    0     1    0    2.0  \n4         1  2020-03-19     1    0     1    0    1.0  \n...     ...         ...   ...  ...   ...  ...    ...  \n60187     1  2020-10-11   103   19  1837  493  122.0  \n60188     2  2020-10-11    86   14  1446  296  100.0  \n60189     0  2020-10-12   198   36  3300  791  234.0  \n60190     1  2020-10-12   112   21  1842  494  133.0  \n60191     2  2020-10-12    86   15  1449  297  101.0  \n\n[60192 rows x 12 columns]\n"
     ]
    }
   ],
   "source": [
    "covid = create_df(\"Data/donnees-hospitalieres-covid.csv\",\"Data/France_density_pop.csv\")"
   ]
  },
  {
   "cell_type": "code",
   "execution_count": 39,
   "metadata": {},
   "outputs": [
    {
     "output_type": "execute_result",
     "data": {
      "text/plain": [
       "              name_dep dep  Superficie(km2)  Population(hab)  \\\n",
       "jour                                                           \n",
       "2020-03-18         Ain  01           5762.0         657000.0   \n",
       "2020-03-18         Ain  01           5762.0         657000.0   \n",
       "2020-03-18         Ain  01           5762.0         657000.0   \n",
       "2020-03-19         Ain  01           5762.0         657000.0   \n",
       "2020-03-19         Ain  01           5762.0         657000.0   \n",
       "...                ...  ..              ...              ...   \n",
       "2020-10-11  Val-d’Oise  95           1246.0        1248400.0   \n",
       "2020-10-11  Val-d’Oise  95           1246.0        1248400.0   \n",
       "2020-10-12  Val-d’Oise  95           1246.0        1248400.0   \n",
       "2020-10-12  Val-d’Oise  95           1246.0        1248400.0   \n",
       "2020-10-12  Val-d’Oise  95           1246.0        1248400.0   \n",
       "\n",
       "            Density(hab/km2)  sexe  hosp  rea   rad   dc    sum  \n",
       "jour                                                             \n",
       "2020-03-18            114.02     0     2    0     1    0    2.0  \n",
       "2020-03-18            114.02     1     1    0     1    0    1.0  \n",
       "2020-03-18            114.02     2     1    0     0    0    1.0  \n",
       "2020-03-19            114.02     0     2    0     1    0    2.0  \n",
       "2020-03-19            114.02     1     1    0     1    0    1.0  \n",
       "...                      ...   ...   ...  ...   ...  ...    ...  \n",
       "2020-10-11           1001.93     1   103   19  1837  493  122.0  \n",
       "2020-10-11           1001.93     2    86   14  1446  296  100.0  \n",
       "2020-10-12           1001.93     0   198   36  3300  791  234.0  \n",
       "2020-10-12           1001.93     1   112   21  1842  494  133.0  \n",
       "2020-10-12           1001.93     2    86   15  1449  297  101.0  \n",
       "\n",
       "[60192 rows x 11 columns]"
      ],
      "text/html": "<div>\n<style scoped>\n    .dataframe tbody tr th:only-of-type {\n        vertical-align: middle;\n    }\n\n    .dataframe tbody tr th {\n        vertical-align: top;\n    }\n\n    .dataframe thead th {\n        text-align: right;\n    }\n</style>\n<table border=\"1\" class=\"dataframe\">\n  <thead>\n    <tr style=\"text-align: right;\">\n      <th></th>\n      <th>name_dep</th>\n      <th>dep</th>\n      <th>Superficie(km2)</th>\n      <th>Population(hab)</th>\n      <th>Density(hab/km2)</th>\n      <th>sexe</th>\n      <th>hosp</th>\n      <th>rea</th>\n      <th>rad</th>\n      <th>dc</th>\n      <th>sum</th>\n    </tr>\n    <tr>\n      <th>jour</th>\n      <th></th>\n      <th></th>\n      <th></th>\n      <th></th>\n      <th></th>\n      <th></th>\n      <th></th>\n      <th></th>\n      <th></th>\n      <th></th>\n      <th></th>\n    </tr>\n  </thead>\n  <tbody>\n    <tr>\n      <th>2020-03-18</th>\n      <td>Ain</td>\n      <td>01</td>\n      <td>5762.0</td>\n      <td>657000.0</td>\n      <td>114.02</td>\n      <td>0</td>\n      <td>2</td>\n      <td>0</td>\n      <td>1</td>\n      <td>0</td>\n      <td>2.0</td>\n    </tr>\n    <tr>\n      <th>2020-03-18</th>\n      <td>Ain</td>\n      <td>01</td>\n      <td>5762.0</td>\n      <td>657000.0</td>\n      <td>114.02</td>\n      <td>1</td>\n      <td>1</td>\n      <td>0</td>\n      <td>1</td>\n      <td>0</td>\n      <td>1.0</td>\n    </tr>\n    <tr>\n      <th>2020-03-18</th>\n      <td>Ain</td>\n      <td>01</td>\n      <td>5762.0</td>\n      <td>657000.0</td>\n      <td>114.02</td>\n      <td>2</td>\n      <td>1</td>\n      <td>0</td>\n      <td>0</td>\n      <td>0</td>\n      <td>1.0</td>\n    </tr>\n    <tr>\n      <th>2020-03-19</th>\n      <td>Ain</td>\n      <td>01</td>\n      <td>5762.0</td>\n      <td>657000.0</td>\n      <td>114.02</td>\n      <td>0</td>\n      <td>2</td>\n      <td>0</td>\n      <td>1</td>\n      <td>0</td>\n      <td>2.0</td>\n    </tr>\n    <tr>\n      <th>2020-03-19</th>\n      <td>Ain</td>\n      <td>01</td>\n      <td>5762.0</td>\n      <td>657000.0</td>\n      <td>114.02</td>\n      <td>1</td>\n      <td>1</td>\n      <td>0</td>\n      <td>1</td>\n      <td>0</td>\n      <td>1.0</td>\n    </tr>\n    <tr>\n      <th>...</th>\n      <td>...</td>\n      <td>...</td>\n      <td>...</td>\n      <td>...</td>\n      <td>...</td>\n      <td>...</td>\n      <td>...</td>\n      <td>...</td>\n      <td>...</td>\n      <td>...</td>\n      <td>...</td>\n    </tr>\n    <tr>\n      <th>2020-10-11</th>\n      <td>Val-d’Oise</td>\n      <td>95</td>\n      <td>1246.0</td>\n      <td>1248400.0</td>\n      <td>1001.93</td>\n      <td>1</td>\n      <td>103</td>\n      <td>19</td>\n      <td>1837</td>\n      <td>493</td>\n      <td>122.0</td>\n    </tr>\n    <tr>\n      <th>2020-10-11</th>\n      <td>Val-d’Oise</td>\n      <td>95</td>\n      <td>1246.0</td>\n      <td>1248400.0</td>\n      <td>1001.93</td>\n      <td>2</td>\n      <td>86</td>\n      <td>14</td>\n      <td>1446</td>\n      <td>296</td>\n      <td>100.0</td>\n    </tr>\n    <tr>\n      <th>2020-10-12</th>\n      <td>Val-d’Oise</td>\n      <td>95</td>\n      <td>1246.0</td>\n      <td>1248400.0</td>\n      <td>1001.93</td>\n      <td>0</td>\n      <td>198</td>\n      <td>36</td>\n      <td>3300</td>\n      <td>791</td>\n      <td>234.0</td>\n    </tr>\n    <tr>\n      <th>2020-10-12</th>\n      <td>Val-d’Oise</td>\n      <td>95</td>\n      <td>1246.0</td>\n      <td>1248400.0</td>\n      <td>1001.93</td>\n      <td>1</td>\n      <td>112</td>\n      <td>21</td>\n      <td>1842</td>\n      <td>494</td>\n      <td>133.0</td>\n    </tr>\n    <tr>\n      <th>2020-10-12</th>\n      <td>Val-d’Oise</td>\n      <td>95</td>\n      <td>1246.0</td>\n      <td>1248400.0</td>\n      <td>1001.93</td>\n      <td>2</td>\n      <td>86</td>\n      <td>15</td>\n      <td>1449</td>\n      <td>297</td>\n      <td>101.0</td>\n    </tr>\n  </tbody>\n</table>\n<p>60192 rows × 11 columns</p>\n</div>"
     },
     "metadata": {},
     "execution_count": 39
    }
   ],
   "source": [
    "covid"
   ]
  },
  {
   "cell_type": "code",
   "execution_count": 16,
   "metadata": {
    "tags": []
   },
   "outputs": [
    {
     "output_type": "stream",
     "name": "stdout",
     "text": [
      "                        dep code  Superficie(km2)  Population(hab)  \\\n56                      Ain   01           5762.0         657000.0   \n12                    Aisne   02           7369.0         526100.0   \n13                   Allier   03           7340.0         331300.0   \n17  Alpes-de-Haute-Provence   04           6925.0         165200.0   \n61             Hautes-Alpes   05           5549.0         141800.0   \n..                      ...  ...              ...              ...   \n92               Val-d’Oise   95           1246.0        1248400.0   \n91               Guadeloupe  971           1703.0         376900.0   \n93               Martinique  972           1128.0         358700.0   \n0                    Guyane  973          83534.0         290700.0   \n88                  Réunion  974           2504.0         860000.0   \n\n    Density(hab/km2)  \n56            114.02  \n12             71.39  \n13             45.14  \n17             23.86  \n61             25.55  \n..               ...  \n92           1001.93  \n91            221.32  \n93            318.00  \n0               3.48  \n88            343.45  \n\n[100 rows x 5 columns]\n"
     ]
    }
   ],
   "source": [
    "covid = create_dataframe(\"Data/donnees-hospitalieres-covid.csv\",\"Data/dep-pop.csv\",\"Data/dep-sup.csv\")\n",
    "#france = json.load(open(\"Geojson/france_dep.geojson\",'r'))"
   ]
  },
  {
   "cell_type": "code",
   "execution_count": 8,
   "metadata": {},
   "outputs": [
    {
     "output_type": "execute_result",
     "data": {
      "text/plain": [
       "                   dep code  Superficie(km2)  Population(hab)  \\\n",
       "jour                                                            \n",
       "2020-03-18         Ain   01           5762.0         657000.0   \n",
       "2020-03-18         Ain   01           5762.0         657000.0   \n",
       "2020-03-18         Ain   01           5762.0         657000.0   \n",
       "2020-03-19         Ain   01           5762.0         657000.0   \n",
       "2020-03-19         Ain   01           5762.0         657000.0   \n",
       "...                ...  ...              ...              ...   \n",
       "2020-10-07  Val-d’Oise   95           1246.0        1248400.0   \n",
       "2020-10-07  Val-d’Oise   95           1246.0        1248400.0   \n",
       "2020-10-08  Val-d’Oise   95           1246.0        1248400.0   \n",
       "2020-10-08  Val-d’Oise   95           1246.0        1248400.0   \n",
       "2020-10-08  Val-d’Oise   95           1246.0        1248400.0   \n",
       "\n",
       "            Density(hab/km2)  Density(hab/km2)_log  sexe  hosp  rea   rad  \\\n",
       "jour                                                                        \n",
       "2020-03-18            114.02              2.056981     0     2    0     1   \n",
       "2020-03-18            114.02              2.056981     1     1    0     1   \n",
       "2020-03-18            114.02              2.056981     2     1    0     0   \n",
       "2020-03-19            114.02              2.056981     0     2    0     1   \n",
       "2020-03-19            114.02              2.056981     1     1    0     1   \n",
       "...                      ...                   ...   ...   ...  ...   ...   \n",
       "2020-10-07           1001.93              3.000837     1   106   21  1813   \n",
       "2020-10-07           1001.93              3.000837     2    83   11  1434   \n",
       "2020-10-08           1001.93              3.000837     0   191   33  3266   \n",
       "2020-10-08           1001.93              3.000837     1   105   22  1819   \n",
       "2020-10-08           1001.93              3.000837     2    86   11  1438   \n",
       "\n",
       "             dc    sum  \n",
       "jour                    \n",
       "2020-03-18    0    2.0  \n",
       "2020-03-18    0    1.0  \n",
       "2020-03-18    0    1.0  \n",
       "2020-03-19    0    2.0  \n",
       "2020-03-19    0    1.0  \n",
       "...         ...    ...  \n",
       "2020-10-07  489  127.0  \n",
       "2020-10-07  294   94.0  \n",
       "2020-10-08  786  224.0  \n",
       "2020-10-08  491  127.0  \n",
       "2020-10-08  295   97.0  \n",
       "\n",
       "[59040 rows x 12 columns]"
      ],
      "text/html": "<div>\n<style scoped>\n    .dataframe tbody tr th:only-of-type {\n        vertical-align: middle;\n    }\n\n    .dataframe tbody tr th {\n        vertical-align: top;\n    }\n\n    .dataframe thead th {\n        text-align: right;\n    }\n</style>\n<table border=\"1\" class=\"dataframe\">\n  <thead>\n    <tr style=\"text-align: right;\">\n      <th></th>\n      <th>dep</th>\n      <th>code</th>\n      <th>Superficie(km2)</th>\n      <th>Population(hab)</th>\n      <th>Density(hab/km2)</th>\n      <th>Density(hab/km2)_log</th>\n      <th>sexe</th>\n      <th>hosp</th>\n      <th>rea</th>\n      <th>rad</th>\n      <th>dc</th>\n      <th>sum</th>\n    </tr>\n    <tr>\n      <th>jour</th>\n      <th></th>\n      <th></th>\n      <th></th>\n      <th></th>\n      <th></th>\n      <th></th>\n      <th></th>\n      <th></th>\n      <th></th>\n      <th></th>\n      <th></th>\n      <th></th>\n    </tr>\n  </thead>\n  <tbody>\n    <tr>\n      <th>2020-03-18</th>\n      <td>Ain</td>\n      <td>01</td>\n      <td>5762.0</td>\n      <td>657000.0</td>\n      <td>114.02</td>\n      <td>2.056981</td>\n      <td>0</td>\n      <td>2</td>\n      <td>0</td>\n      <td>1</td>\n      <td>0</td>\n      <td>2.0</td>\n    </tr>\n    <tr>\n      <th>2020-03-18</th>\n      <td>Ain</td>\n      <td>01</td>\n      <td>5762.0</td>\n      <td>657000.0</td>\n      <td>114.02</td>\n      <td>2.056981</td>\n      <td>1</td>\n      <td>1</td>\n      <td>0</td>\n      <td>1</td>\n      <td>0</td>\n      <td>1.0</td>\n    </tr>\n    <tr>\n      <th>2020-03-18</th>\n      <td>Ain</td>\n      <td>01</td>\n      <td>5762.0</td>\n      <td>657000.0</td>\n      <td>114.02</td>\n      <td>2.056981</td>\n      <td>2</td>\n      <td>1</td>\n      <td>0</td>\n      <td>0</td>\n      <td>0</td>\n      <td>1.0</td>\n    </tr>\n    <tr>\n      <th>2020-03-19</th>\n      <td>Ain</td>\n      <td>01</td>\n      <td>5762.0</td>\n      <td>657000.0</td>\n      <td>114.02</td>\n      <td>2.056981</td>\n      <td>0</td>\n      <td>2</td>\n      <td>0</td>\n      <td>1</td>\n      <td>0</td>\n      <td>2.0</td>\n    </tr>\n    <tr>\n      <th>2020-03-19</th>\n      <td>Ain</td>\n      <td>01</td>\n      <td>5762.0</td>\n      <td>657000.0</td>\n      <td>114.02</td>\n      <td>2.056981</td>\n      <td>1</td>\n      <td>1</td>\n      <td>0</td>\n      <td>1</td>\n      <td>0</td>\n      <td>1.0</td>\n    </tr>\n    <tr>\n      <th>...</th>\n      <td>...</td>\n      <td>...</td>\n      <td>...</td>\n      <td>...</td>\n      <td>...</td>\n      <td>...</td>\n      <td>...</td>\n      <td>...</td>\n      <td>...</td>\n      <td>...</td>\n      <td>...</td>\n      <td>...</td>\n    </tr>\n    <tr>\n      <th>2020-10-07</th>\n      <td>Val-d’Oise</td>\n      <td>95</td>\n      <td>1246.0</td>\n      <td>1248400.0</td>\n      <td>1001.93</td>\n      <td>3.000837</td>\n      <td>1</td>\n      <td>106</td>\n      <td>21</td>\n      <td>1813</td>\n      <td>489</td>\n      <td>127.0</td>\n    </tr>\n    <tr>\n      <th>2020-10-07</th>\n      <td>Val-d’Oise</td>\n      <td>95</td>\n      <td>1246.0</td>\n      <td>1248400.0</td>\n      <td>1001.93</td>\n      <td>3.000837</td>\n      <td>2</td>\n      <td>83</td>\n      <td>11</td>\n      <td>1434</td>\n      <td>294</td>\n      <td>94.0</td>\n    </tr>\n    <tr>\n      <th>2020-10-08</th>\n      <td>Val-d’Oise</td>\n      <td>95</td>\n      <td>1246.0</td>\n      <td>1248400.0</td>\n      <td>1001.93</td>\n      <td>3.000837</td>\n      <td>0</td>\n      <td>191</td>\n      <td>33</td>\n      <td>3266</td>\n      <td>786</td>\n      <td>224.0</td>\n    </tr>\n    <tr>\n      <th>2020-10-08</th>\n      <td>Val-d’Oise</td>\n      <td>95</td>\n      <td>1246.0</td>\n      <td>1248400.0</td>\n      <td>1001.93</td>\n      <td>3.000837</td>\n      <td>1</td>\n      <td>105</td>\n      <td>22</td>\n      <td>1819</td>\n      <td>491</td>\n      <td>127.0</td>\n    </tr>\n    <tr>\n      <th>2020-10-08</th>\n      <td>Val-d’Oise</td>\n      <td>95</td>\n      <td>1246.0</td>\n      <td>1248400.0</td>\n      <td>1001.93</td>\n      <td>3.000837</td>\n      <td>2</td>\n      <td>86</td>\n      <td>11</td>\n      <td>1438</td>\n      <td>295</td>\n      <td>97.0</td>\n    </tr>\n  </tbody>\n</table>\n<p>59040 rows × 12 columns</p>\n</div>"
     },
     "metadata": {},
     "execution_count": 8
    }
   ],
   "source": [
    "covid"
   ]
  },
  {
   "cell_type": "code",
   "execution_count": 190,
   "metadata": {},
   "outputs": [],
   "source": [
    "d = {int(i):str(j) for i,j in zip(range(len(covid.index.unique())), covid.index.unique())}"
   ]
  },
  {
   "cell_type": "code",
   "execution_count": 213,
   "metadata": {},
   "outputs": [
    {
     "output_type": "execute_result",
     "data": {
      "text/plain": [
       "{14: 'Avril',\n",
       " 44: 'Mai',\n",
       " 75: 'Juin',\n",
       " 105: 'Juillet',\n",
       " 136: 'Aout',\n",
       " 167: 'Septembre',\n",
       " 197: 'Octrobre'}"
      ]
     },
     "metadata": {},
     "execution_count": 213
    }
   ],
   "source": [
    "d2"
   ]
  },
  {
   "cell_type": "code",
   "execution_count": 202,
   "metadata": {},
   "outputs": [
    {
     "output_type": "stream",
     "name": "stdout",
     "text": [
      "11 Avril 2020\n"
     ]
    }
   ],
   "source": [
    "mois = {'01':'Janvier','02':'Février','03':'Mars','04':'Avril','05':'Mai','06':'Juin','07':'Juillet','08':'Aout','09':'Septembre','10':'Octrobre','11':'Novembre','12':'Decembre'}\n",
    "def transform(date): \n",
    "    tmp = date.split('-')\n",
    "    s = tmp[2] +' '+mois[tmp[1]]+' '+tmp[0]\n",
    "    return s \n",
    "\n",
    "transform(d[24])"
   ]
  },
  {
   "cell_type": "code",
   "execution_count": 306,
   "metadata": {},
   "outputs": [],
   "source": [
    "# get specific data for 1 sexe dans 1 day\n",
    "covid = covid[covid['sexe']==2]\n",
    "covid = covid.loc[datetime.strptime(d[0], '%Y-%m-%d').date()]\n",
    "covid = covid.sort_values(by=['Density(hab/km2)'])"
   ]
  },
  {
   "cell_type": "code",
   "execution_count": 300,
   "metadata": {},
   "outputs": [
    {
     "output_type": "execute_result",
     "data": {
      "text/plain": [
       "Empty DataFrame\n",
       "Columns: [dep, code, Superficie(km2), Population(hab), Density(hab/km2), Density(hab/km2)_log, sexe, hosp, rea, rad, dc, sum]\n",
       "Index: []"
      ],
      "text/html": "<div>\n<style scoped>\n    .dataframe tbody tr th:only-of-type {\n        vertical-align: middle;\n    }\n\n    .dataframe tbody tr th {\n        vertical-align: top;\n    }\n\n    .dataframe thead th {\n        text-align: right;\n    }\n</style>\n<table border=\"1\" class=\"dataframe\">\n  <thead>\n    <tr style=\"text-align: right;\">\n      <th></th>\n      <th>dep</th>\n      <th>code</th>\n      <th>Superficie(km2)</th>\n      <th>Population(hab)</th>\n      <th>Density(hab/km2)</th>\n      <th>Density(hab/km2)_log</th>\n      <th>sexe</th>\n      <th>hosp</th>\n      <th>rea</th>\n      <th>rad</th>\n      <th>dc</th>\n      <th>sum</th>\n    </tr>\n    <tr>\n      <th>jour</th>\n      <th></th>\n      <th></th>\n      <th></th>\n      <th></th>\n      <th></th>\n      <th></th>\n      <th></th>\n      <th></th>\n      <th></th>\n      <th></th>\n      <th></th>\n      <th></th>\n    </tr>\n  </thead>\n  <tbody>\n  </tbody>\n</table>\n</div>"
     },
     "metadata": {},
     "execution_count": 300
    }
   ],
   "source": [
    "covid[covid['sum']==0]"
   ]
  },
  {
   "source": [
    "#ig = go.Figure()\n",
    "\n",
    "fig = make_subplots(\n",
    "    rows=1, cols=2,\n",
    "    column_widths=[0.35, 0.65],\n",
    "    horizontal_spacing=0.03,\n",
    "    specs=[[{\"type\": \"Choroplethmapbox\"}, {\"type\": \"bar\"}]],\n",
    "    subplot_titles=(\"Hospitalisation et Réanimation par département en France\",\"Hospitalisation et Réanimation par département en France en fonction de la densité\"))\n",
    "\n",
    "fig.add_trace(go.Bar(\n",
    "    x=covid['dep'],\n",
    "    y=covid['hosp'],\n",
    "    name='Hospitalisation',\n",
    "    hovertemplate =\"<b> Departement : %{customdata[0]} </b><br><b> Densité : %{customdata[4]} hab/km2</b><br><b>Hospitalisation : %{customdata[7]} pers.</b>\"+\"<extra></extra>\",\n",
    "    customdata=covid,\n",
    "    marker_color='rgb(196, 102, 73)',\n",
    "    showlegend =False),\n",
    "    row=1, col=2)\n",
    "\n",
    "fig.add_trace(go.Bar(\n",
    "    x=covid['dep'],\n",
    "    y=covid['rea'],\n",
    "    name='Réanimation',\n",
    "    hovertemplate =\"<b> Departement : %{customdata[0]} </b><br><b> Densité : %{customdata[4]} hab/km2</b><br><b>Réanimation : %{customdata[8]} pers.</b>\"+\"<extra></extra>\",\n",
    "    customdata=covid,\n",
    "    marker_color='rgb(89, 13, 31)',\n",
    "    showlegend =False),\n",
    "    row=1, col=2)\n",
    "\n",
    "fig.add_trace(go.Choroplethmapbox(geojson=france, \n",
    "                                    locations=covid['code'],\n",
    "                                    z=np.log10(covid['sum']),\n",
    "                                    customdata=covid,\n",
    "                                    showscale=False,\n",
    "                                    hovertemplate =\"<b> Departement : %{customdata[0]} </b><br><b> Densité : %{customdata[4]} hab/km2</b><br><b>Hospitalisation : %{customdata[7]} pers.</b><br><b>Réanimation : %{customdata[8]} pers.</b>\"+\"<extra></extra>\",\n",
    "                                    featureidkey=\"properties.code\",                           \n",
    "                                    colorscale=\"amp\",\n",
    "                                    showlegend = False,\n",
    "                                    marker_opacity=0.8, \n",
    "                                    marker_line_width=0.3,\n",
    "                                    name='europe_map'),\n",
    "                                    row=1, col=1)\n",
    "\n",
    "fig.update_layout(title = go.layout.Title(text = 'Density Urbaine et covid'),mapbox_style=\"carto-positron\",mapbox_zoom=4.7, mapbox_center = {\"lat\": 46.35, \"lon\": 2.55})\n",
    "\n",
    "fig.update_layout(barmode='relative')\n",
    "fig.update_layout(template='plotly_white')\n",
    "\n",
    "fig.show()"
   ],
   "cell_type": "code",
   "metadata": {},
   "execution_count": 307,
   "outputs": []
  },
  {
   "cell_type": "code",
   "execution_count": 294,
   "metadata": {},
   "outputs": [],
   "source": [
    "\n",
    "            "
   ]
  },
  {
   "cell_type": "code",
   "execution_count": null,
   "metadata": {},
   "outputs": [],
   "source": []
  }
 ]
}