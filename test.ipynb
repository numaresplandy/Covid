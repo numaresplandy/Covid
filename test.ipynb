{
 "metadata": {
  "language_info": {
   "codemirror_mode": {
    "name": "ipython",
    "version": 3
   },
   "file_extension": ".py",
   "mimetype": "text/x-python",
   "name": "python",
   "nbconvert_exporter": "python",
   "pygments_lexer": "ipython3",
   "version": "3.8.2-final"
  },
  "orig_nbformat": 2,
  "kernelspec": {
   "name": "Python 3.8.2 64-bit",
   "display_name": "Python 3.8.2 64-bit",
   "metadata": {
    "interpreter": {
     "hash": "0adcc2737ebf6a4a119f135174df96668767fca1ef1112612db5ecadf2b6d608"
    }
   }
  }
 },
 "nbformat": 4,
 "nbformat_minor": 2,
 "cells": [
  {
   "cell_type": "code",
   "execution_count": 1,
   "metadata": {},
   "outputs": [],
   "source": [
    "import numpy as np \n",
    "import pandas as pd \n",
    "import plotly.express as px  # (version 4.7.0)\n",
    "import json\n",
    "import plotly.graph_objects as go\n",
    "from plotly.subplots import make_subplots\n",
    "import plotly.io as pio \n",
    "from datetime import datetime\n",
    "pio.renderers.default='browser'"
   ]
  },
  {
   "cell_type": "code",
   "execution_count": 5,
   "metadata": {},
   "outputs": [],
   "source": [
    "def create_data_density(dep_pop_file,dep_sup_file):\n",
    "    dep_sup = pd.read_csv(dep_sup_file,dtype={'dep': str, 'code': str, 'Superficie(km2)': float})\n",
    "    dep_pop = pd.read_csv(dep_pop_file,dtype={'dep': str, 'code': str, 'Population(milliers)': float})\n",
    "    dep_sup = dep_sup.sort_values(by=['code'])\n",
    "    dep_pop['Population(milliers)'] = dep_pop['Population(milliers)'] * 1000\n",
    "    dep_sup['Population(hab)'] = (dep_pop['Population(milliers)'].values)\n",
    "    dep_sup['Density(hab/km2)'] =round(dep_sup['Population(hab)']/dep_sup['Superficie(km2)'],2)\n",
    "    dep_sup['Density(hab/km2)_log'] = np.log10(dep_sup['Density(hab/km2)'])\n",
    "    return dep_sup\n",
    "\n",
    "\n",
    "def create_data_covid(covid_file,dep_pop_file,dep_sup_file): \n",
    "    data= create_data_density(dep_pop_file,dep_sup_file)\n",
    "    covid = pd.read_csv(covid_file)\n",
    "    covid = pd.merge(data, covid, on = ['code'])\n",
    "    for i in ['974','973','972','971']: \n",
    "        covid= covid.drop(covid[ covid['code'] ==i].index, axis=0)\n",
    "    covid['sum']= covid['hosp'] + covid['rea']\n",
    "    covid['sum']=covid['sum'].astype('float64')\n",
    "    np.seterr(divide = 'ignore')\n",
    "    for i in range(len(covid['sum'])): \n",
    "        if np.log(covid['sum'][i])==float('-inf'):\n",
    "            covid['sum'].loc[i]=1\n",
    "    np.seterr(divide = 'warn')\n",
    "    covid['jour'] =pd.to_datetime(covid['jour']).dt.date\n",
    "    covid = covid.set_index('jour') \n",
    "    return covid\n",
    "\n"
   ]
  },
  {
   "cell_type": "code",
   "execution_count": 22,
   "metadata": {},
   "outputs": [
    {
     "output_type": "execute_result",
     "data": {
      "text/plain": [
       "{0: {'label': 'mois', 'style': {'color': '#77b0b1'}}}"
      ]
     },
     "metadata": {},
     "execution_count": 22
    }
   ],
   "source": [
    "d= {}\n",
    "d[0]={'label':'mois','style':{'color': '#77b0b1'}}\n",
    "d"
   ]
  },
  {
   "cell_type": "code",
   "execution_count": 26,
   "metadata": {},
   "outputs": [
    {
     "output_type": "execute_result",
     "data": {
      "text/plain": [
       "{2: {'label': '20', 'style': {'color': '#77b0b1'}},\n",
       " 14: {'label': '01 Avril', 'style': {'color': '#77b0b1'}},\n",
       " 23: {'label': '10', 'style': {'color': '#77b0b1'}},\n",
       " 33: {'label': '20', 'style': {'color': '#77b0b1'}},\n",
       " 44: {'label': '01 Mai', 'style': {'color': '#77b0b1'}},\n",
       " 53: {'label': '10', 'style': {'color': '#77b0b1'}},\n",
       " 63: {'label': '20', 'style': {'color': '#77b0b1'}},\n",
       " 75: {'label': '01 Juin', 'style': {'color': '#77b0b1'}},\n",
       " 84: {'label': '10', 'style': {'color': '#77b0b1'}},\n",
       " 94: {'label': '20', 'style': {'color': '#77b0b1'}},\n",
       " 105: {'label': '01 Juillet', 'style': {'color': '#77b0b1'}},\n",
       " 114: {'label': '10', 'style': {'color': '#77b0b1'}},\n",
       " 124: {'label': '20', 'style': {'color': '#77b0b1'}},\n",
       " 136: {'label': '01 Aout', 'style': {'color': '#77b0b1'}},\n",
       " 145: {'label': '10', 'style': {'color': '#77b0b1'}},\n",
       " 155: {'label': '20', 'style': {'color': '#77b0b1'}},\n",
       " 167: {'label': '01 Septembre', 'style': {'color': '#77b0b1'}},\n",
       " 176: {'label': '10', 'style': {'color': '#77b0b1'}},\n",
       " 186: {'label': '20', 'style': {'color': '#77b0b1'}},\n",
       " 197: {'label': '01 Octrobre', 'style': {'color': '#77b0b1'}}}"
      ]
     },
     "metadata": {},
     "execution_count": 26
    }
   ],
   "source": [
    "def getmarksDict():\n",
    "    d2={}\n",
    "    for i in days:\n",
    "        tmp = days[i].split('-')\n",
    "        if tmp[2] =='01': \n",
    "            d2[i]={'label':tmp[2]+' '+mois[tmp[1]],'style':{'color': '#77b0b1'}}\n",
    "        elif tmp[2] in ['10','20']:\n",
    "             d2[i]={'label':tmp[2],'style':{'color': '#77b0b1'}}\n",
    "    return d2\n",
    "mois = {'01':'Janvier','02':'Février','03':'Mars','04':'Avril','05':'Mai','06':'Juin','07':'Juillet','08':'Aout','09':'Septembre','10':'Octrobre','11':'Novembre','12':'Decembre'}\n",
    "\n",
    "days = {int(i):str(j) for i,j in zip(range(len(covid.index.unique())), covid.index.unique())}\n",
    "firstMonth ={}\n",
    "firstMonth = getmarksDict()\n",
    "firstMonth"
   ]
  },
  {
   "cell_type": "code",
   "execution_count": 6,
   "metadata": {
    "tags": []
   },
   "outputs": [
    {
     "output_type": "error",
     "ename": "IndexingError",
     "evalue": "(slice(None, None, None), 1233)",
     "traceback": [
      "\u001b[0;31m---------------------------------------------------------------------------\u001b[0m",
      "\u001b[0;31mTypeError\u001b[0m                                 Traceback (most recent call last)",
      "\u001b[0;32m/Library/Frameworks/Python.framework/Versions/3.8/lib/python3.8/site-packages/pandas/core/indexing.py\u001b[0m in \u001b[0;36m_get_setitem_indexer\u001b[0;34m(self, key)\u001b[0m\n\u001b[1;32m    656\u001b[0m         \u001b[0;32mtry\u001b[0m\u001b[0;34m:\u001b[0m\u001b[0;34m\u001b[0m\u001b[0;34m\u001b[0m\u001b[0m\n\u001b[0;32m--> 657\u001b[0;31m             \u001b[0;32mreturn\u001b[0m \u001b[0mself\u001b[0m\u001b[0;34m.\u001b[0m\u001b[0m_convert_to_indexer\u001b[0m\u001b[0;34m(\u001b[0m\u001b[0mkey\u001b[0m\u001b[0;34m,\u001b[0m \u001b[0maxis\u001b[0m\u001b[0;34m=\u001b[0m\u001b[0maxis\u001b[0m\u001b[0;34m)\u001b[0m\u001b[0;34m\u001b[0m\u001b[0;34m\u001b[0m\u001b[0m\n\u001b[0m\u001b[1;32m    658\u001b[0m         \u001b[0;32mexcept\u001b[0m \u001b[0mTypeError\u001b[0m \u001b[0;32mas\u001b[0m \u001b[0me\u001b[0m\u001b[0;34m:\u001b[0m\u001b[0;34m\u001b[0m\u001b[0;34m\u001b[0m\u001b[0m\n",
      "\u001b[0;32m/Library/Frameworks/Python.framework/Versions/3.8/lib/python3.8/site-packages/pandas/core/indexing.py\u001b[0m in \u001b[0;36m_convert_to_indexer\u001b[0;34m(self, obj, axis, raise_missing)\u001b[0m\n\u001b[1;32m   1731\u001b[0m                 \u001b[0;31m# When setting, missing keys are not allowed, even with .loc:\u001b[0m\u001b[0;34m\u001b[0m\u001b[0;34m\u001b[0m\u001b[0;34m\u001b[0m\u001b[0m\n\u001b[0;32m-> 1732\u001b[0;31m                 \u001b[0;32mreturn\u001b[0m \u001b[0mself\u001b[0m\u001b[0;34m.\u001b[0m\u001b[0m_get_listlike_indexer\u001b[0m\u001b[0;34m(\u001b[0m\u001b[0mobj\u001b[0m\u001b[0;34m,\u001b[0m \u001b[0maxis\u001b[0m\u001b[0;34m,\u001b[0m \u001b[0mraise_missing\u001b[0m\u001b[0;34m=\u001b[0m\u001b[0;32mTrue\u001b[0m\u001b[0;34m)\u001b[0m\u001b[0;34m[\u001b[0m\u001b[0;36m1\u001b[0m\u001b[0;34m]\u001b[0m\u001b[0;34m\u001b[0m\u001b[0;34m\u001b[0m\u001b[0m\n\u001b[0m\u001b[1;32m   1733\u001b[0m         \u001b[0;32melse\u001b[0m\u001b[0;34m:\u001b[0m\u001b[0;34m\u001b[0m\u001b[0;34m\u001b[0m\u001b[0m\n",
      "\u001b[0;32m/Library/Frameworks/Python.framework/Versions/3.8/lib/python3.8/site-packages/pandas/core/indexing.py\u001b[0m in \u001b[0;36m_get_listlike_indexer\u001b[0;34m(self, key, axis, raise_missing)\u001b[0m\n\u001b[1;32m   1546\u001b[0m                 \u001b[0mkey\u001b[0m \u001b[0;34m=\u001b[0m \u001b[0mself\u001b[0m\u001b[0;34m.\u001b[0m\u001b[0m_convert_for_reindex\u001b[0m\u001b[0;34m(\u001b[0m\u001b[0mkey\u001b[0m\u001b[0;34m,\u001b[0m \u001b[0maxis\u001b[0m\u001b[0;34m)\u001b[0m\u001b[0;34m\u001b[0m\u001b[0;34m\u001b[0m\u001b[0m\n\u001b[0;32m-> 1547\u001b[0;31m             \u001b[0mindexer\u001b[0m \u001b[0;34m=\u001b[0m \u001b[0max\u001b[0m\u001b[0;34m.\u001b[0m\u001b[0mget_indexer_for\u001b[0m\u001b[0;34m(\u001b[0m\u001b[0mkey\u001b[0m\u001b[0;34m)\u001b[0m\u001b[0;34m\u001b[0m\u001b[0;34m\u001b[0m\u001b[0m\n\u001b[0m\u001b[1;32m   1548\u001b[0m             \u001b[0mkeyarr\u001b[0m \u001b[0;34m=\u001b[0m \u001b[0max\u001b[0m\u001b[0;34m.\u001b[0m\u001b[0mreindex\u001b[0m\u001b[0;34m(\u001b[0m\u001b[0mkeyarr\u001b[0m\u001b[0;34m)\u001b[0m\u001b[0;34m[\u001b[0m\u001b[0;36m0\u001b[0m\u001b[0;34m]\u001b[0m\u001b[0;34m\u001b[0m\u001b[0;34m\u001b[0m\u001b[0m\n",
      "\u001b[0;32m/Library/Frameworks/Python.framework/Versions/3.8/lib/python3.8/site-packages/pandas/core/indexes/base.py\u001b[0m in \u001b[0;36mget_indexer_for\u001b[0;34m(self, target, **kwargs)\u001b[0m\n\u001b[1;32m   4500\u001b[0m         \u001b[0;32mif\u001b[0m \u001b[0mself\u001b[0m\u001b[0;34m.\u001b[0m\u001b[0mis_unique\u001b[0m\u001b[0;34m:\u001b[0m\u001b[0;34m\u001b[0m\u001b[0;34m\u001b[0m\u001b[0m\n\u001b[0;32m-> 4501\u001b[0;31m             \u001b[0;32mreturn\u001b[0m \u001b[0mself\u001b[0m\u001b[0;34m.\u001b[0m\u001b[0mget_indexer\u001b[0m\u001b[0;34m(\u001b[0m\u001b[0mtarget\u001b[0m\u001b[0;34m,\u001b[0m \u001b[0;34m**\u001b[0m\u001b[0mkwargs\u001b[0m\u001b[0;34m)\u001b[0m\u001b[0;34m\u001b[0m\u001b[0;34m\u001b[0m\u001b[0m\n\u001b[0m\u001b[1;32m   4502\u001b[0m         \u001b[0mindexer\u001b[0m\u001b[0;34m,\u001b[0m \u001b[0m_\u001b[0m \u001b[0;34m=\u001b[0m \u001b[0mself\u001b[0m\u001b[0;34m.\u001b[0m\u001b[0mget_indexer_non_unique\u001b[0m\u001b[0;34m(\u001b[0m\u001b[0mtarget\u001b[0m\u001b[0;34m,\u001b[0m \u001b[0;34m**\u001b[0m\u001b[0mkwargs\u001b[0m\u001b[0;34m)\u001b[0m\u001b[0;34m\u001b[0m\u001b[0;34m\u001b[0m\u001b[0m\n",
      "\u001b[0;32m/Library/Frameworks/Python.framework/Versions/3.8/lib/python3.8/site-packages/pandas/core/indexes/base.py\u001b[0m in \u001b[0;36mget_indexer\u001b[0;34m(self, target, method, limit, tolerance)\u001b[0m\n\u001b[1;32m   2727\u001b[0m             \u001b[0mtarget\u001b[0m \u001b[0;34m=\u001b[0m \u001b[0mtarget\u001b[0m\u001b[0;34m.\u001b[0m\u001b[0mastype\u001b[0m\u001b[0;34m(\u001b[0m\u001b[0mobject\u001b[0m\u001b[0;34m)\u001b[0m\u001b[0;34m\u001b[0m\u001b[0;34m\u001b[0m\u001b[0m\n\u001b[0;32m-> 2728\u001b[0;31m             return this.get_indexer(\n\u001b[0m\u001b[1;32m   2729\u001b[0m                 \u001b[0mtarget\u001b[0m\u001b[0;34m,\u001b[0m \u001b[0mmethod\u001b[0m\u001b[0;34m=\u001b[0m\u001b[0mmethod\u001b[0m\u001b[0;34m,\u001b[0m \u001b[0mlimit\u001b[0m\u001b[0;34m=\u001b[0m\u001b[0mlimit\u001b[0m\u001b[0;34m,\u001b[0m \u001b[0mtolerance\u001b[0m\u001b[0;34m=\u001b[0m\u001b[0mtolerance\u001b[0m\u001b[0;34m\u001b[0m\u001b[0;34m\u001b[0m\u001b[0m\n",
      "\u001b[0;32m/Library/Frameworks/Python.framework/Versions/3.8/lib/python3.8/site-packages/pandas/core/indexes/base.py\u001b[0m in \u001b[0;36mget_indexer\u001b[0;34m(self, target, method, limit, tolerance)\u001b[0m\n\u001b[1;32m   2752\u001b[0m \u001b[0;34m\u001b[0m\u001b[0m\n\u001b[0;32m-> 2753\u001b[0;31m             \u001b[0mindexer\u001b[0m \u001b[0;34m=\u001b[0m \u001b[0mself\u001b[0m\u001b[0;34m.\u001b[0m\u001b[0m_engine\u001b[0m\u001b[0;34m.\u001b[0m\u001b[0mget_indexer\u001b[0m\u001b[0;34m(\u001b[0m\u001b[0mtarget\u001b[0m\u001b[0;34m.\u001b[0m\u001b[0m_ndarray_values\u001b[0m\u001b[0;34m)\u001b[0m\u001b[0;34m\u001b[0m\u001b[0;34m\u001b[0m\u001b[0m\n\u001b[0m\u001b[1;32m   2754\u001b[0m \u001b[0;34m\u001b[0m\u001b[0m\n",
      "\u001b[0;32mpandas/_libs/index.pyx\u001b[0m in \u001b[0;36mpandas._libs.index.IndexEngine.get_indexer\u001b[0;34m()\u001b[0m\n",
      "\u001b[0;32mpandas/_libs/hashtable_class_helper.pxi\u001b[0m in \u001b[0;36mpandas._libs.hashtable.PyObjectHashTable.lookup\u001b[0;34m()\u001b[0m\n",
      "\u001b[0;31mTypeError\u001b[0m: unhashable type: 'slice'",
      "\nDuring handling of the above exception, another exception occurred:\n",
      "\u001b[0;31mIndexingError\u001b[0m                             Traceback (most recent call last)",
      "\u001b[0;32m<ipython-input-6-12f35cbb1fee>\u001b[0m in \u001b[0;36m<module>\u001b[0;34m\u001b[0m\n\u001b[0;32m----> 1\u001b[0;31m \u001b[0mcovid\u001b[0m \u001b[0;34m=\u001b[0m \u001b[0mcreate_data_covid\u001b[0m\u001b[0;34m(\u001b[0m\u001b[0;34m\"Data/donnees-hospitalieres-covid.csv\"\u001b[0m\u001b[0;34m,\u001b[0m\u001b[0;34m\"Data/dep-pop.csv\"\u001b[0m\u001b[0;34m,\u001b[0m\u001b[0;34m\"Data/dep-sup.csv\"\u001b[0m\u001b[0;34m)\u001b[0m\u001b[0;34m\u001b[0m\u001b[0;34m\u001b[0m\u001b[0m\n\u001b[0m\u001b[1;32m      2\u001b[0m \u001b[0mfrance\u001b[0m \u001b[0;34m=\u001b[0m \u001b[0mjson\u001b[0m\u001b[0;34m.\u001b[0m\u001b[0mload\u001b[0m\u001b[0;34m(\u001b[0m\u001b[0mopen\u001b[0m\u001b[0;34m(\u001b[0m\u001b[0;34m\"Geojson/france_dep.geojson\"\u001b[0m\u001b[0;34m,\u001b[0m\u001b[0;34m'r'\u001b[0m\u001b[0;34m)\u001b[0m\u001b[0;34m)\u001b[0m\u001b[0;34m\u001b[0m\u001b[0;34m\u001b[0m\u001b[0m\n",
      "\u001b[0;32m<ipython-input-5-bf5da03604c8>\u001b[0m in \u001b[0;36mcreate_data_covid\u001b[0;34m(covid_file, dep_pop_file, dep_sup_file)\u001b[0m\n\u001b[1;32m     21\u001b[0m     \u001b[0;32mfor\u001b[0m \u001b[0mi\u001b[0m \u001b[0;32min\u001b[0m \u001b[0mrange\u001b[0m\u001b[0;34m(\u001b[0m\u001b[0mlen\u001b[0m\u001b[0;34m(\u001b[0m\u001b[0mcovid\u001b[0m\u001b[0;34m[\u001b[0m\u001b[0;34m'sum'\u001b[0m\u001b[0;34m]\u001b[0m\u001b[0;34m)\u001b[0m\u001b[0;34m)\u001b[0m\u001b[0;34m:\u001b[0m\u001b[0;34m\u001b[0m\u001b[0;34m\u001b[0m\u001b[0m\n\u001b[1;32m     22\u001b[0m         \u001b[0;32mif\u001b[0m \u001b[0mnp\u001b[0m\u001b[0;34m.\u001b[0m\u001b[0mlog\u001b[0m\u001b[0;34m(\u001b[0m\u001b[0mcovid\u001b[0m\u001b[0;34m[\u001b[0m\u001b[0;34m'sum'\u001b[0m\u001b[0;34m]\u001b[0m\u001b[0;34m[\u001b[0m\u001b[0mi\u001b[0m\u001b[0;34m]\u001b[0m\u001b[0;34m)\u001b[0m\u001b[0;34m==\u001b[0m\u001b[0mfloat\u001b[0m\u001b[0;34m(\u001b[0m\u001b[0;34m'-inf'\u001b[0m\u001b[0;34m)\u001b[0m\u001b[0;34m:\u001b[0m\u001b[0;34m\u001b[0m\u001b[0;34m\u001b[0m\u001b[0m\n\u001b[0;32m---> 23\u001b[0;31m             \u001b[0mcovid\u001b[0m\u001b[0;34m[\u001b[0m\u001b[0;34m'sum'\u001b[0m\u001b[0;34m]\u001b[0m\u001b[0;34m.\u001b[0m\u001b[0mloc\u001b[0m\u001b[0;34m[\u001b[0m\u001b[0;34m:\u001b[0m\u001b[0;34m,\u001b[0m\u001b[0mi\u001b[0m\u001b[0;34m]\u001b[0m\u001b[0;34m=\u001b[0m\u001b[0;36m1\u001b[0m\u001b[0;34m\u001b[0m\u001b[0;34m\u001b[0m\u001b[0m\n\u001b[0m\u001b[1;32m     24\u001b[0m     \u001b[0mnp\u001b[0m\u001b[0;34m.\u001b[0m\u001b[0mseterr\u001b[0m\u001b[0;34m(\u001b[0m\u001b[0mdivide\u001b[0m \u001b[0;34m=\u001b[0m \u001b[0;34m'warn'\u001b[0m\u001b[0;34m)\u001b[0m\u001b[0;34m\u001b[0m\u001b[0;34m\u001b[0m\u001b[0m\n\u001b[1;32m     25\u001b[0m     \u001b[0mcovid\u001b[0m\u001b[0;34m[\u001b[0m\u001b[0;34m'jour'\u001b[0m\u001b[0;34m]\u001b[0m \u001b[0;34m=\u001b[0m\u001b[0mpd\u001b[0m\u001b[0;34m.\u001b[0m\u001b[0mto_datetime\u001b[0m\u001b[0;34m(\u001b[0m\u001b[0mcovid\u001b[0m\u001b[0;34m[\u001b[0m\u001b[0;34m'jour'\u001b[0m\u001b[0;34m]\u001b[0m\u001b[0;34m)\u001b[0m\u001b[0;34m.\u001b[0m\u001b[0mdt\u001b[0m\u001b[0;34m.\u001b[0m\u001b[0mdate\u001b[0m\u001b[0;34m\u001b[0m\u001b[0;34m\u001b[0m\u001b[0m\n",
      "\u001b[0;32m/Library/Frameworks/Python.framework/Versions/3.8/lib/python3.8/site-packages/pandas/core/indexing.py\u001b[0m in \u001b[0;36m__setitem__\u001b[0;34m(self, key, value)\u001b[0m\n\u001b[1;32m    668\u001b[0m         \u001b[0;32melse\u001b[0m\u001b[0;34m:\u001b[0m\u001b[0;34m\u001b[0m\u001b[0;34m\u001b[0m\u001b[0m\n\u001b[1;32m    669\u001b[0m             \u001b[0mkey\u001b[0m \u001b[0;34m=\u001b[0m \u001b[0mcom\u001b[0m\u001b[0;34m.\u001b[0m\u001b[0mapply_if_callable\u001b[0m\u001b[0;34m(\u001b[0m\u001b[0mkey\u001b[0m\u001b[0;34m,\u001b[0m \u001b[0mself\u001b[0m\u001b[0;34m.\u001b[0m\u001b[0mobj\u001b[0m\u001b[0;34m)\u001b[0m\u001b[0;34m\u001b[0m\u001b[0;34m\u001b[0m\u001b[0m\n\u001b[0;32m--> 670\u001b[0;31m         \u001b[0mindexer\u001b[0m \u001b[0;34m=\u001b[0m \u001b[0mself\u001b[0m\u001b[0;34m.\u001b[0m\u001b[0m_get_setitem_indexer\u001b[0m\u001b[0;34m(\u001b[0m\u001b[0mkey\u001b[0m\u001b[0;34m)\u001b[0m\u001b[0;34m\u001b[0m\u001b[0;34m\u001b[0m\u001b[0m\n\u001b[0m\u001b[1;32m    671\u001b[0m         \u001b[0mself\u001b[0m\u001b[0;34m.\u001b[0m\u001b[0m_setitem_with_indexer\u001b[0m\u001b[0;34m(\u001b[0m\u001b[0mindexer\u001b[0m\u001b[0;34m,\u001b[0m \u001b[0mvalue\u001b[0m\u001b[0;34m)\u001b[0m\u001b[0;34m\u001b[0m\u001b[0;34m\u001b[0m\u001b[0m\n\u001b[1;32m    672\u001b[0m \u001b[0;34m\u001b[0m\u001b[0m\n",
      "\u001b[0;32m/Library/Frameworks/Python.framework/Versions/3.8/lib/python3.8/site-packages/pandas/core/indexing.py\u001b[0m in \u001b[0;36m_get_setitem_indexer\u001b[0;34m(self, key)\u001b[0m\n\u001b[1;32m    661\u001b[0m             \u001b[0;32mif\u001b[0m \u001b[0;34m\"cannot do\"\u001b[0m \u001b[0;32min\u001b[0m \u001b[0mstr\u001b[0m\u001b[0;34m(\u001b[0m\u001b[0me\u001b[0m\u001b[0;34m)\u001b[0m\u001b[0;34m:\u001b[0m\u001b[0;34m\u001b[0m\u001b[0;34m\u001b[0m\u001b[0m\n\u001b[1;32m    662\u001b[0m                 \u001b[0;32mraise\u001b[0m\u001b[0;34m\u001b[0m\u001b[0;34m\u001b[0m\u001b[0m\n\u001b[0;32m--> 663\u001b[0;31m             \u001b[0;32mraise\u001b[0m \u001b[0mIndexingError\u001b[0m\u001b[0;34m(\u001b[0m\u001b[0mkey\u001b[0m\u001b[0;34m)\u001b[0m\u001b[0;34m\u001b[0m\u001b[0;34m\u001b[0m\u001b[0m\n\u001b[0m\u001b[1;32m    664\u001b[0m \u001b[0;34m\u001b[0m\u001b[0m\n\u001b[1;32m    665\u001b[0m     \u001b[0;32mdef\u001b[0m \u001b[0m__setitem__\u001b[0m\u001b[0;34m(\u001b[0m\u001b[0mself\u001b[0m\u001b[0;34m,\u001b[0m \u001b[0mkey\u001b[0m\u001b[0;34m,\u001b[0m \u001b[0mvalue\u001b[0m\u001b[0;34m)\u001b[0m\u001b[0;34m:\u001b[0m\u001b[0;34m\u001b[0m\u001b[0;34m\u001b[0m\u001b[0m\n",
      "\u001b[0;31mIndexingError\u001b[0m: (slice(None, None, None), 1233)"
     ]
    }
   ],
   "source": [
    "covid = create_data_covid(\"Data/donnees-hospitalieres-covid.csv\",\"Data/dep-pop.csv\",\"Data/dep-sup.csv\")\n",
    "france = json.load(open(\"Geojson/france_dep.geojson\",'r'))"
   ]
  },
  {
   "cell_type": "code",
   "execution_count": 4,
   "metadata": {},
   "outputs": [
    {
     "output_type": "execute_result",
     "data": {
      "text/plain": [
       "                   dep code  Superficie(km2)  Population(hab)  \\\n",
       "jour                                                            \n",
       "2020-03-18         Ain   01           5762.0         657000.0   \n",
       "2020-03-18         Ain   01           5762.0         657000.0   \n",
       "2020-03-18         Ain   01           5762.0         657000.0   \n",
       "2020-03-19         Ain   01           5762.0         657000.0   \n",
       "2020-03-19         Ain   01           5762.0         657000.0   \n",
       "...                ...  ...              ...              ...   \n",
       "2020-10-07  Val-d’Oise   95           1246.0        1248400.0   \n",
       "2020-10-07  Val-d’Oise   95           1246.0        1248400.0   \n",
       "2020-10-08  Val-d’Oise   95           1246.0        1248400.0   \n",
       "2020-10-08  Val-d’Oise   95           1246.0        1248400.0   \n",
       "2020-10-08  Val-d’Oise   95           1246.0        1248400.0   \n",
       "\n",
       "            Density(hab/km2)  Density(hab/km2)_log  sexe  hosp  rea   rad  \\\n",
       "jour                                                                        \n",
       "2020-03-18            114.02              2.056981     0     2    0     1   \n",
       "2020-03-18            114.02              2.056981     1     1    0     1   \n",
       "2020-03-18            114.02              2.056981     2     1    0     0   \n",
       "2020-03-19            114.02              2.056981     0     2    0     1   \n",
       "2020-03-19            114.02              2.056981     1     1    0     1   \n",
       "...                      ...                   ...   ...   ...  ...   ...   \n",
       "2020-10-07           1001.93              3.000837     1   106   21  1813   \n",
       "2020-10-07           1001.93              3.000837     2    83   11  1434   \n",
       "2020-10-08           1001.93              3.000837     0   191   33  3266   \n",
       "2020-10-08           1001.93              3.000837     1   105   22  1819   \n",
       "2020-10-08           1001.93              3.000837     2    86   11  1438   \n",
       "\n",
       "             dc    sum  \n",
       "jour                    \n",
       "2020-03-18    0    2.0  \n",
       "2020-03-18    0    1.0  \n",
       "2020-03-18    0    1.0  \n",
       "2020-03-19    0    2.0  \n",
       "2020-03-19    0    1.0  \n",
       "...         ...    ...  \n",
       "2020-10-07  489  127.0  \n",
       "2020-10-07  294   94.0  \n",
       "2020-10-08  786  224.0  \n",
       "2020-10-08  491  127.0  \n",
       "2020-10-08  295   97.0  \n",
       "\n",
       "[59040 rows x 12 columns]"
      ],
      "text/html": "<div>\n<style scoped>\n    .dataframe tbody tr th:only-of-type {\n        vertical-align: middle;\n    }\n\n    .dataframe tbody tr th {\n        vertical-align: top;\n    }\n\n    .dataframe thead th {\n        text-align: right;\n    }\n</style>\n<table border=\"1\" class=\"dataframe\">\n  <thead>\n    <tr style=\"text-align: right;\">\n      <th></th>\n      <th>dep</th>\n      <th>code</th>\n      <th>Superficie(km2)</th>\n      <th>Population(hab)</th>\n      <th>Density(hab/km2)</th>\n      <th>Density(hab/km2)_log</th>\n      <th>sexe</th>\n      <th>hosp</th>\n      <th>rea</th>\n      <th>rad</th>\n      <th>dc</th>\n      <th>sum</th>\n    </tr>\n    <tr>\n      <th>jour</th>\n      <th></th>\n      <th></th>\n      <th></th>\n      <th></th>\n      <th></th>\n      <th></th>\n      <th></th>\n      <th></th>\n      <th></th>\n      <th></th>\n      <th></th>\n      <th></th>\n    </tr>\n  </thead>\n  <tbody>\n    <tr>\n      <th>2020-03-18</th>\n      <td>Ain</td>\n      <td>01</td>\n      <td>5762.0</td>\n      <td>657000.0</td>\n      <td>114.02</td>\n      <td>2.056981</td>\n      <td>0</td>\n      <td>2</td>\n      <td>0</td>\n      <td>1</td>\n      <td>0</td>\n      <td>2.0</td>\n    </tr>\n    <tr>\n      <th>2020-03-18</th>\n      <td>Ain</td>\n      <td>01</td>\n      <td>5762.0</td>\n      <td>657000.0</td>\n      <td>114.02</td>\n      <td>2.056981</td>\n      <td>1</td>\n      <td>1</td>\n      <td>0</td>\n      <td>1</td>\n      <td>0</td>\n      <td>1.0</td>\n    </tr>\n    <tr>\n      <th>2020-03-18</th>\n      <td>Ain</td>\n      <td>01</td>\n      <td>5762.0</td>\n      <td>657000.0</td>\n      <td>114.02</td>\n      <td>2.056981</td>\n      <td>2</td>\n      <td>1</td>\n      <td>0</td>\n      <td>0</td>\n      <td>0</td>\n      <td>1.0</td>\n    </tr>\n    <tr>\n      <th>2020-03-19</th>\n      <td>Ain</td>\n      <td>01</td>\n      <td>5762.0</td>\n      <td>657000.0</td>\n      <td>114.02</td>\n      <td>2.056981</td>\n      <td>0</td>\n      <td>2</td>\n      <td>0</td>\n      <td>1</td>\n      <td>0</td>\n      <td>2.0</td>\n    </tr>\n    <tr>\n      <th>2020-03-19</th>\n      <td>Ain</td>\n      <td>01</td>\n      <td>5762.0</td>\n      <td>657000.0</td>\n      <td>114.02</td>\n      <td>2.056981</td>\n      <td>1</td>\n      <td>1</td>\n      <td>0</td>\n      <td>1</td>\n      <td>0</td>\n      <td>1.0</td>\n    </tr>\n    <tr>\n      <th>...</th>\n      <td>...</td>\n      <td>...</td>\n      <td>...</td>\n      <td>...</td>\n      <td>...</td>\n      <td>...</td>\n      <td>...</td>\n      <td>...</td>\n      <td>...</td>\n      <td>...</td>\n      <td>...</td>\n      <td>...</td>\n    </tr>\n    <tr>\n      <th>2020-10-07</th>\n      <td>Val-d’Oise</td>\n      <td>95</td>\n      <td>1246.0</td>\n      <td>1248400.0</td>\n      <td>1001.93</td>\n      <td>3.000837</td>\n      <td>1</td>\n      <td>106</td>\n      <td>21</td>\n      <td>1813</td>\n      <td>489</td>\n      <td>127.0</td>\n    </tr>\n    <tr>\n      <th>2020-10-07</th>\n      <td>Val-d’Oise</td>\n      <td>95</td>\n      <td>1246.0</td>\n      <td>1248400.0</td>\n      <td>1001.93</td>\n      <td>3.000837</td>\n      <td>2</td>\n      <td>83</td>\n      <td>11</td>\n      <td>1434</td>\n      <td>294</td>\n      <td>94.0</td>\n    </tr>\n    <tr>\n      <th>2020-10-08</th>\n      <td>Val-d’Oise</td>\n      <td>95</td>\n      <td>1246.0</td>\n      <td>1248400.0</td>\n      <td>1001.93</td>\n      <td>3.000837</td>\n      <td>0</td>\n      <td>191</td>\n      <td>33</td>\n      <td>3266</td>\n      <td>786</td>\n      <td>224.0</td>\n    </tr>\n    <tr>\n      <th>2020-10-08</th>\n      <td>Val-d’Oise</td>\n      <td>95</td>\n      <td>1246.0</td>\n      <td>1248400.0</td>\n      <td>1001.93</td>\n      <td>3.000837</td>\n      <td>1</td>\n      <td>105</td>\n      <td>22</td>\n      <td>1819</td>\n      <td>491</td>\n      <td>127.0</td>\n    </tr>\n    <tr>\n      <th>2020-10-08</th>\n      <td>Val-d’Oise</td>\n      <td>95</td>\n      <td>1246.0</td>\n      <td>1248400.0</td>\n      <td>1001.93</td>\n      <td>3.000837</td>\n      <td>2</td>\n      <td>86</td>\n      <td>11</td>\n      <td>1438</td>\n      <td>295</td>\n      <td>97.0</td>\n    </tr>\n  </tbody>\n</table>\n<p>59040 rows × 12 columns</p>\n</div>"
     },
     "metadata": {},
     "execution_count": 4
    }
   ],
   "source": [
    "covid"
   ]
  },
  {
   "cell_type": "code",
   "execution_count": 190,
   "metadata": {},
   "outputs": [],
   "source": [
    "d = {int(i):str(j) for i,j in zip(range(len(covid.index.unique())), covid.index.unique())}"
   ]
  },
  {
   "cell_type": "code",
   "execution_count": 213,
   "metadata": {},
   "outputs": [
    {
     "output_type": "execute_result",
     "data": {
      "text/plain": [
       "{14: 'Avril',\n",
       " 44: 'Mai',\n",
       " 75: 'Juin',\n",
       " 105: 'Juillet',\n",
       " 136: 'Aout',\n",
       " 167: 'Septembre',\n",
       " 197: 'Octrobre'}"
      ]
     },
     "metadata": {},
     "execution_count": 213
    }
   ],
   "source": [
    "d2"
   ]
  },
  {
   "cell_type": "code",
   "execution_count": 202,
   "metadata": {},
   "outputs": [
    {
     "output_type": "stream",
     "name": "stdout",
     "text": [
      "11 Avril 2020\n"
     ]
    }
   ],
   "source": [
    "mois = {'01':'Janvier','02':'Février','03':'Mars','04':'Avril','05':'Mai','06':'Juin','07':'Juillet','08':'Aout','09':'Septembre','10':'Octrobre','11':'Novembre','12':'Decembre'}\n",
    "def transform(date): \n",
    "    tmp = date.split('-')\n",
    "    s = tmp[2] +' '+mois[tmp[1]]+' '+tmp[0]\n",
    "    return s \n",
    "\n",
    "transform(d[24])"
   ]
  },
  {
   "cell_type": "code",
   "execution_count": 306,
   "metadata": {},
   "outputs": [],
   "source": [
    "# get specific data for 1 sexe dans 1 day\n",
    "covid = covid[covid['sexe']==2]\n",
    "covid = covid.loc[datetime.strptime(d[0], '%Y-%m-%d').date()]\n",
    "covid = covid.sort_values(by=['Density(hab/km2)'])"
   ]
  },
  {
   "cell_type": "code",
   "execution_count": 300,
   "metadata": {},
   "outputs": [
    {
     "output_type": "execute_result",
     "data": {
      "text/plain": [
       "Empty DataFrame\n",
       "Columns: [dep, code, Superficie(km2), Population(hab), Density(hab/km2), Density(hab/km2)_log, sexe, hosp, rea, rad, dc, sum]\n",
       "Index: []"
      ],
      "text/html": "<div>\n<style scoped>\n    .dataframe tbody tr th:only-of-type {\n        vertical-align: middle;\n    }\n\n    .dataframe tbody tr th {\n        vertical-align: top;\n    }\n\n    .dataframe thead th {\n        text-align: right;\n    }\n</style>\n<table border=\"1\" class=\"dataframe\">\n  <thead>\n    <tr style=\"text-align: right;\">\n      <th></th>\n      <th>dep</th>\n      <th>code</th>\n      <th>Superficie(km2)</th>\n      <th>Population(hab)</th>\n      <th>Density(hab/km2)</th>\n      <th>Density(hab/km2)_log</th>\n      <th>sexe</th>\n      <th>hosp</th>\n      <th>rea</th>\n      <th>rad</th>\n      <th>dc</th>\n      <th>sum</th>\n    </tr>\n    <tr>\n      <th>jour</th>\n      <th></th>\n      <th></th>\n      <th></th>\n      <th></th>\n      <th></th>\n      <th></th>\n      <th></th>\n      <th></th>\n      <th></th>\n      <th></th>\n      <th></th>\n      <th></th>\n    </tr>\n  </thead>\n  <tbody>\n  </tbody>\n</table>\n</div>"
     },
     "metadata": {},
     "execution_count": 300
    }
   ],
   "source": [
    "covid[covid['sum']==0]"
   ]
  },
  {
   "source": [
    "#ig = go.Figure()\n",
    "\n",
    "fig = make_subplots(\n",
    "    rows=1, cols=2,\n",
    "    column_widths=[0.35, 0.65],\n",
    "    horizontal_spacing=0.03,\n",
    "    specs=[[{\"type\": \"Choroplethmapbox\"}, {\"type\": \"bar\"}]],\n",
    "    subplot_titles=(\"Hospitalisation et Réanimation par département en France\",\"Hospitalisation et Réanimation par département en France en fonction de la densité\"))\n",
    "\n",
    "fig.add_trace(go.Bar(\n",
    "    x=covid['dep'],\n",
    "    y=covid['hosp'],\n",
    "    name='Hospitalisation',\n",
    "    hovertemplate =\"<b> Departement : %{customdata[0]} </b><br><b> Densité : %{customdata[4]} hab/km2</b><br><b>Hospitalisation : %{customdata[7]} pers.</b>\"+\"<extra></extra>\",\n",
    "    customdata=covid,\n",
    "    marker_color='rgb(196, 102, 73)',\n",
    "    showlegend =False),\n",
    "    row=1, col=2)\n",
    "\n",
    "fig.add_trace(go.Bar(\n",
    "    x=covid['dep'],\n",
    "    y=covid['rea'],\n",
    "    name='Réanimation',\n",
    "    hovertemplate =\"<b> Departement : %{customdata[0]} </b><br><b> Densité : %{customdata[4]} hab/km2</b><br><b>Réanimation : %{customdata[8]} pers.</b>\"+\"<extra></extra>\",\n",
    "    customdata=covid,\n",
    "    marker_color='rgb(89, 13, 31)',\n",
    "    showlegend =False),\n",
    "    row=1, col=2)\n",
    "\n",
    "fig.add_trace(go.Choroplethmapbox(geojson=france, \n",
    "                                    locations=covid['code'],\n",
    "                                    z=np.log10(covid['sum']),\n",
    "                                    customdata=covid,\n",
    "                                    showscale=False,\n",
    "                                    hovertemplate =\"<b> Departement : %{customdata[0]} </b><br><b> Densité : %{customdata[4]} hab/km2</b><br><b>Hospitalisation : %{customdata[7]} pers.</b><br><b>Réanimation : %{customdata[8]} pers.</b>\"+\"<extra></extra>\",\n",
    "                                    featureidkey=\"properties.code\",                           \n",
    "                                    colorscale=\"amp\",\n",
    "                                    showlegend = False,\n",
    "                                    marker_opacity=0.8, \n",
    "                                    marker_line_width=0.3,\n",
    "                                    name='europe_map'),\n",
    "                                    row=1, col=1)\n",
    "\n",
    "fig.update_layout(title = go.layout.Title(text = 'Density Urbaine et covid'),mapbox_style=\"carto-positron\",mapbox_zoom=4.7, mapbox_center = {\"lat\": 46.35, \"lon\": 2.55})\n",
    "\n",
    "fig.update_layout(barmode='relative')\n",
    "fig.update_layout(template='plotly_white')\n",
    "\n",
    "fig.show()"
   ],
   "cell_type": "code",
   "metadata": {},
   "execution_count": 307,
   "outputs": []
  },
  {
   "cell_type": "code",
   "execution_count": 294,
   "metadata": {},
   "outputs": [],
   "source": [
    "\n",
    "            "
   ]
  },
  {
   "cell_type": "code",
   "execution_count": null,
   "metadata": {},
   "outputs": [],
   "source": []
  }
 ]
}