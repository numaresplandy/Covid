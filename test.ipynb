{
 "metadata": {
  "language_info": {
   "codemirror_mode": {
    "name": "ipython",
    "version": 3
   },
   "file_extension": ".py",
   "mimetype": "text/x-python",
   "name": "python",
   "nbconvert_exporter": "python",
   "pygments_lexer": "ipython3",
   "version": "3.8.2-final"
  },
  "orig_nbformat": 2,
  "kernelspec": {
   "name": "Python 3.8.2 64-bit",
   "display_name": "Python 3.8.2 64-bit",
   "metadata": {
    "interpreter": {
     "hash": "0adcc2737ebf6a4a119f135174df96668767fca1ef1112612db5ecadf2b6d608"
    }
   }
  }
 },
 "nbformat": 4,
 "nbformat_minor": 2,
 "cells": [
  {
   "cell_type": "code",
   "execution_count": 134,
   "metadata": {},
   "outputs": [],
   "source": [
    "import numpy as np \n",
    "import pandas as pd \n",
    "import plotly.express as px  # (version 4.7.0)\n",
    "import json\n",
    "import plotly.graph_objects as go\n",
    "from plotly.subplots import make_subplots\n",
    "import plotly.io as pio \n",
    "from datetime import datetime\n",
    "pio.renderers.default='browser'"
   ]
  },
  {
   "cell_type": "code",
   "execution_count": 304,
   "metadata": {},
   "outputs": [],
   "source": [
    "def create_data_density(dep_pop_file,dep_sup_file):\n",
    "    dep_sup = pd.read_csv(dep_sup_file,dtype={'dep': str, 'code': str, 'Superficie(km2)': float})\n",
    "    dep_pop = pd.read_csv(dep_pop_file,dtype={'dep': str, 'code': str, 'Population(milliers)': float})\n",
    "    dep_sup = dep_sup.sort_values(by=['code'])\n",
    "    dep_pop = dep_pop.multiply(1000, axis='Population(milliers)')\n",
    "    dep_sup['Population(hab)'] = (dep_pop['Population(milliers)'].values)\n",
    "    dep_sup['Density(hab/km2)'] =round(dep_sup['Population(hab)']/dep_sup['Superficie(km2)'],2)\n",
    "    dep_sup['Density(hab/km2)_log'] = np.log10(dep_sup['Density(hab/km2)'])\n",
    "    return dep_sup\n",
    "def create_data_covid(covid_file,dep_pop_file,dep_sup_file): \n",
    "    data= create_data_density(dep_pop_file,dep_sup_file)\n",
    "    covid = pd.read_csv(covid_file)\n",
    "    covid = pd.merge(data, covid, on = ['code'])\n",
    "    for i in ['974','973','972','971']: \n",
    "        covid= covid.drop(covid[ covid['code'] ==i].index, axis=0)\n",
    "    covid['sum']= covid['hosp'] + covid['rea']\n",
    "    covid['sum']=covid['sum'].astype('float64')\n",
    "    for i in range(len(covid['sum'])): \n",
    "        if np.log(covid['sum'][i])==float('-inf'):\n",
    "            covid['sum'][i]=1\n",
    "    covid['jour'] =pd.to_datetime(covid['jour']).dt.date\n",
    "    covid = covid.set_index(pd.DatetimeIndex(covid['jour']))\n",
    "    \n",
    "    return covid\n",
    "\n"
   ]
  },
  {
   "cell_type": "code",
   "execution_count": 305,
   "metadata": {
    "tags": []
   },
   "outputs": [],
   "source": [
    "covid = create_data_covid(\"Data/donnees-hospitalieres-covid.csv\",\"Data/dep-pop.csv\",\"Data/dep-sup.csv\")\n",
    "france = json.load(open(\"Geojson/france_dep.geojson\",'r'))"
   ]
  },
  {
   "cell_type": "code",
   "execution_count": 190,
   "metadata": {},
   "outputs": [],
   "source": [
    "d = {int(i):str(j) for i,j in zip(range(len(covid.index.unique())), covid.index.unique())}"
   ]
  },
  {
   "cell_type": "code",
   "execution_count": 213,
   "metadata": {},
   "outputs": [
    {
     "output_type": "execute_result",
     "data": {
      "text/plain": [
       "{14: 'Avril',\n",
       " 44: 'Mai',\n",
       " 75: 'Juin',\n",
       " 105: 'Juillet',\n",
       " 136: 'Aout',\n",
       " 167: 'Septembre',\n",
       " 197: 'Octrobre'}"
      ]
     },
     "metadata": {},
     "execution_count": 213
    }
   ],
   "source": [
    "d2"
   ]
  },
  {
   "cell_type": "code",
   "execution_count": 202,
   "metadata": {},
   "outputs": [
    {
     "output_type": "stream",
     "name": "stdout",
     "text": [
      "11 Avril 2020\n"
     ]
    }
   ],
   "source": [
    "mois = {'01':'Janvier','02':'Février','03':'Mars','04':'Avril','05':'Mai','06':'Juin','07':'Juillet','08':'Aout','09':'Septembre','10':'Octrobre','11':'Novembre','12':'Decembre'}\n",
    "def transform(date): \n",
    "    tmp = date.split('-')\n",
    "    s = tmp[2] +' '+mois[tmp[1]]+' '+tmp[0]\n",
    "    return s \n",
    "\n",
    "transform(d[24])"
   ]
  },
  {
   "cell_type": "code",
   "execution_count": 306,
   "metadata": {},
   "outputs": [],
   "source": [
    "# get specific data for 1 sexe dans 1 day\n",
    "covid = covid[covid['sexe']==2]\n",
    "covid = covid.loc[datetime.strptime(d[0], '%Y-%m-%d').date()]\n",
    "covid = covid.sort_values(by=['Density(hab/km2)'])"
   ]
  },
  {
   "cell_type": "code",
   "execution_count": 300,
   "metadata": {},
   "outputs": [
    {
     "output_type": "execute_result",
     "data": {
      "text/plain": [
       "Empty DataFrame\n",
       "Columns: [dep, code, Superficie(km2), Population(hab), Density(hab/km2), Density(hab/km2)_log, sexe, hosp, rea, rad, dc, sum]\n",
       "Index: []"
      ],
      "text/html": "<div>\n<style scoped>\n    .dataframe tbody tr th:only-of-type {\n        vertical-align: middle;\n    }\n\n    .dataframe tbody tr th {\n        vertical-align: top;\n    }\n\n    .dataframe thead th {\n        text-align: right;\n    }\n</style>\n<table border=\"1\" class=\"dataframe\">\n  <thead>\n    <tr style=\"text-align: right;\">\n      <th></th>\n      <th>dep</th>\n      <th>code</th>\n      <th>Superficie(km2)</th>\n      <th>Population(hab)</th>\n      <th>Density(hab/km2)</th>\n      <th>Density(hab/km2)_log</th>\n      <th>sexe</th>\n      <th>hosp</th>\n      <th>rea</th>\n      <th>rad</th>\n      <th>dc</th>\n      <th>sum</th>\n    </tr>\n    <tr>\n      <th>jour</th>\n      <th></th>\n      <th></th>\n      <th></th>\n      <th></th>\n      <th></th>\n      <th></th>\n      <th></th>\n      <th></th>\n      <th></th>\n      <th></th>\n      <th></th>\n      <th></th>\n    </tr>\n  </thead>\n  <tbody>\n  </tbody>\n</table>\n</div>"
     },
     "metadata": {},
     "execution_count": 300
    }
   ],
   "source": [
    "covid[covid['sum']==0]"
   ]
  },
  {
   "source": [
    "#ig = go.Figure()\n",
    "\n",
    "fig = make_subplots(\n",
    "    rows=1, cols=2,\n",
    "    column_widths=[0.35, 0.65],\n",
    "    horizontal_spacing=0.03,\n",
    "    specs=[[{\"type\": \"Choroplethmapbox\"}, {\"type\": \"bar\"}]],\n",
    "    subplot_titles=(\"Hospitalisation et Réanimation par département en France\",\"Hospitalisation et Réanimation par département en France en fonction de la densité\"))\n",
    "\n",
    "fig.add_trace(go.Bar(\n",
    "    x=covid['dep'],\n",
    "    y=covid['hosp'],\n",
    "    name='Hospitalisation',\n",
    "    hovertemplate =\"<b> Departement : %{customdata[0]} </b><br><b> Densité : %{customdata[4]} hab/km2</b><br><b>Hospitalisation : %{customdata[7]} pers.</b>\"+\"<extra></extra>\",\n",
    "    customdata=covid,\n",
    "    marker_color='rgb(196, 102, 73)',\n",
    "    showlegend =False),\n",
    "    row=1, col=2)\n",
    "\n",
    "fig.add_trace(go.Bar(\n",
    "    x=covid['dep'],\n",
    "    y=covid['rea'],\n",
    "    name='Réanimation',\n",
    "    hovertemplate =\"<b> Departement : %{customdata[0]} </b><br><b> Densité : %{customdata[4]} hab/km2</b><br><b>Réanimation : %{customdata[8]} pers.</b>\"+\"<extra></extra>\",\n",
    "    customdata=covid,\n",
    "    marker_color='rgb(89, 13, 31)',\n",
    "    showlegend =False),\n",
    "    row=1, col=2)\n",
    "\n",
    "fig.add_trace(go.Choroplethmapbox(geojson=france, \n",
    "                                    locations=covid['code'],\n",
    "                                    z=np.log10(covid['sum']),\n",
    "                                    customdata=covid,\n",
    "                                    showscale=False,\n",
    "                                    hovertemplate =\"<b> Departement : %{customdata[0]} </b><br><b> Densité : %{customdata[4]} hab/km2</b><br><b>Hospitalisation : %{customdata[7]} pers.</b><br><b>Réanimation : %{customdata[8]} pers.</b>\"+\"<extra></extra>\",\n",
    "                                    featureidkey=\"properties.code\",                           \n",
    "                                    colorscale=\"amp\",\n",
    "                                    showlegend = False,\n",
    "                                    marker_opacity=0.8, \n",
    "                                    marker_line_width=0.3,\n",
    "                                    name='europe_map'),\n",
    "                                    row=1, col=1)\n",
    "\n",
    "fig.update_layout(title = go.layout.Title(text = 'Density Urbaine et covid'),mapbox_style=\"carto-positron\",mapbox_zoom=4.7, mapbox_center = {\"lat\": 46.35, \"lon\": 2.55})\n",
    "\n",
    "fig.update_layout(barmode='relative')\n",
    "fig.update_layout(template='plotly_white')\n",
    "\n",
    "fig.show()"
   ],
   "cell_type": "code",
   "metadata": {},
   "execution_count": 307,
   "outputs": []
  },
  {
   "cell_type": "code",
   "execution_count": 294,
   "metadata": {},
   "outputs": [],
   "source": [
    "\n",
    "            "
   ]
  },
  {
   "cell_type": "code",
   "execution_count": null,
   "metadata": {},
   "outputs": [],
   "source": []
  }
 ]
}